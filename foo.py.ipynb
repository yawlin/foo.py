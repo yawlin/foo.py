{
 "cells": [
  {
   "cell_type": "code",
   "execution_count": 4,
   "metadata": {},
   "outputs": [
    {
     "name": "stdout",
     "output_type": "stream",
     "text": [
      "hello, wolrd\n",
      "hello, yll\n",
      "hello, mike\n",
      "annie, hello\n",
      "it is 5 lines\n"
     ]
    }
   ],
   "source": [
    "\n",
    "print(\"hello, wolrd\")\n",
    "\n",
    "print(\"hello, yll\")\n",
    "\n",
    "print(\"hello, mike\")\n",
    "\n",
    "print(\"annie, hello\")\n",
    "\n",
    "print(\"it is 5 lines\")"
   ]
  },
  {
   "cell_type": "code",
   "execution_count": 5,
   "metadata": {},
   "outputs": [
    {
     "name": "stdout",
     "output_type": "stream",
     "text": [
      "Here output the test text; this is coded from Visual Sudio Code -- 05/15/18.\n"
     ]
    }
   ],
   "source": [
    "# This is a comment -- 05/15/18\n",
    "print(\"Here output the test text; this is coded from Visual Sudio Code -- 05/15/18.\")"
   ]
  },
  {
   "cell_type": "code",
   "execution_count": 6,
   "metadata": {},
   "outputs": [
    {
     "name": "stdout",
     "output_type": "stream",
     "text": [
      "fibo(0) = 0\n",
      "fibo(1) = 1\n",
      "fibo(2) = 1\n",
      "fibo(3) = 2\n",
      "fibo(4) = 3\n",
      "fibo(5) = 5\n",
      "fibo(6) = 8\n",
      "fibo(7) = 13\n",
      "fibo(8) = 21\n",
      "fibo(9) = 34\n"
     ]
    }
   ],
   "source": [
    "# Building a python recursive function\n",
    "def fibo(n):\n",
    "    if (n <= 1) :\n",
    "        return(n)\n",
    "    else:\n",
    "        return ( fibo(n-1) + fibo(n-2) )\n",
    "\n",
    "for i in range(10):\n",
    "    print( 'fibo(%d) = %d' % ( i, fibo(i) ) )"
   ]
  },
  {
   "cell_type": "code",
   "execution_count": null,
   "metadata": {},
   "outputs": [],
   "source": []
  }
 ],
 "metadata": {
  "kernelspec": {
   "display_name": "Python 3",
   "language": "python",
   "name": "python3"
  },
  "language_info": {
   "codemirror_mode": {
    "name": "ipython",
    "version": 3
   },
   "file_extension": ".py",
   "mimetype": "text/x-python",
   "name": "python",
   "nbconvert_exporter": "python",
   "pygments_lexer": "ipython3",
   "version": "3.6.4"
  }
 },
 "nbformat": 4,
 "nbformat_minor": 2
}
