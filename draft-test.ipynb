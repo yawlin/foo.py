{
 "cells": [
  {
   "cell_type": "code",
   "execution_count": 1,
   "metadata": {},
   "outputs": [],
   "source": [
    "\n",
    "import random\n",
    "random.seed('yll')"
   ]
  },
  {
   "cell_type": "code",
   "execution_count": 2,
   "metadata": {},
   "outputs": [
    {
     "data": {
      "text/plain": [
       "[['A1', 'A2'], ['B1', 'B2'], ['C1', 'C2', 'C3'], ['D1', 'D2', 'D3', 'D4']]"
      ]
     },
     "execution_count": 2,
     "metadata": {},
     "output_type": "execute_result"
    }
   ],
   "source": [
    "s, t = 2, 4\n",
    "n = 4\n",
    "plist=[]  # Creating a random parameter list\n",
    "for i in range(n): \n",
    "    plist.append( [ \"%s%d\" % ( chr(65+i), j+1) for j in range(random.randint(s, t)) ] )\n",
    "plist"
   ]
  },
  {
   "cell_type": "code",
   "execution_count": 3,
   "metadata": {},
   "outputs": [
    {
     "data": {
      "text/plain": [
       "[2, 2, 3, 4]"
      ]
     },
     "execution_count": 3,
     "metadata": {},
     "output_type": "execute_result"
    }
   ],
   "source": [
    "# Here we show how to enumerate all possible parameter lists contents ...\n",
    "lenpl=[len(plist[x]) for x in range(n)]\n",
    "lenpl"
   ]
  },
  {
   "cell_type": "code",
   "execution_count": 4,
   "metadata": {},
   "outputs": [
    {
     "name": "stdout",
     "output_type": "stream",
     "text": [
      "[(0, 0, 0, 0), (0, 0, 0, 1), (0, 0, 0, 2), (0, 0, 0, 3), (0, 0, 1, 0), (0, 0, 1, 1), (0, 0, 1, 2), (0, 0, 1, 3), (0, 0, 2, 0), (0, 0, 2, 1), (0, 0, 2, 2), (0, 0, 2, 3), (0, 1, 0, 0), (0, 1, 0, 1), (0, 1, 0, 2), (0, 1, 0, 3), (0, 1, 1, 0), (0, 1, 1, 1), (0, 1, 1, 2), (0, 1, 1, 3), (0, 1, 2, 0), (0, 1, 2, 1), (0, 1, 2, 2), (0, 1, 2, 3), (1, 0, 0, 0), (1, 0, 0, 1), (1, 0, 0, 2), (1, 0, 0, 3), (1, 0, 1, 0), (1, 0, 1, 1), (1, 0, 1, 2), (1, 0, 1, 3), (1, 0, 2, 0), (1, 0, 2, 1), (1, 0, 2, 2), (1, 0, 2, 3), (1, 1, 0, 0), (1, 1, 0, 1), (1, 1, 0, 2), (1, 1, 0, 3), (1, 1, 1, 0), (1, 1, 1, 1), (1, 1, 1, 2), (1, 1, 1, 3), (1, 1, 2, 0), (1, 1, 2, 1), (1, 1, 2, 2), (1, 1, 2, 3)] --> 48\n"
     ]
    }
   ],
   "source": [
    "import itertools\n",
    "\n",
    "ranges = [range(x) for x in lenpl]\n",
    "Alist=[x for x in itertools.product(*ranges) ]\n",
    "print(Alist, '-->', len(Alist))"
   ]
  },
  {
   "cell_type": "code",
   "execution_count": 32,
   "metadata": {},
   "outputs": [
    {
     "name": "stdout",
     "output_type": "stream",
     "text": [
      "A[(0, 0, 0, 0)] = 0\n",
      "A[(0, 0, 0, 1)] = 1\n",
      "A[(0, 0, 0, 2)] = 2\n",
      "A[(0, 0, 0, 3)] = 3\n",
      "A[(0, 0, 1, 0)] = 4\n",
      "A[(0, 0, 1, 1)] = 5\n",
      "A[(0, 0, 1, 2)] = 6\n",
      "A[(0, 0, 1, 3)] = 7\n",
      "A[(0, 0, 2, 0)] = 8\n",
      "A[(0, 0, 2, 1)] = 9\n",
      "A[(0, 0, 2, 2)] = 10\n",
      "A[(0, 0, 2, 3)] = 11\n",
      "A[(0, 1, 0, 0)] = 12\n",
      "A[(0, 1, 0, 1)] = 13\n",
      "A[(0, 1, 0, 2)] = 14\n",
      "A[(0, 1, 0, 3)] = 15\n",
      "A[(0, 1, 1, 0)] = 16\n",
      "A[(0, 1, 1, 1)] = 17\n",
      "A[(0, 1, 1, 2)] = 18\n",
      "A[(0, 1, 1, 3)] = 19\n",
      "A[(0, 1, 2, 0)] = 20\n",
      "A[(0, 1, 2, 1)] = 21\n",
      "A[(0, 1, 2, 2)] = 22\n",
      "A[(0, 1, 2, 3)] = 23\n",
      "A[(1, 0, 0, 0)] = 24\n",
      "A[(1, 0, 0, 1)] = 25\n",
      "A[(1, 0, 0, 2)] = 26\n",
      "A[(1, 0, 0, 3)] = 27\n",
      "A[(1, 0, 1, 0)] = 28\n",
      "A[(1, 0, 1, 1)] = 29\n",
      "A[(1, 0, 1, 2)] = 30\n",
      "A[(1, 0, 1, 3)] = 31\n",
      "A[(1, 0, 2, 0)] = 32\n",
      "A[(1, 0, 2, 1)] = 33\n",
      "A[(1, 0, 2, 2)] = 34\n",
      "A[(1, 0, 2, 3)] = 35\n",
      "A[(1, 1, 0, 0)] = 36\n",
      "A[(1, 1, 0, 1)] = 37\n",
      "A[(1, 1, 0, 2)] = 38\n",
      "A[(1, 1, 0, 3)] = 39\n",
      "A[(1, 1, 1, 0)] = 40\n",
      "A[(1, 1, 1, 1)] = 41\n",
      "A[(1, 1, 1, 2)] = 42\n",
      "A[(1, 1, 1, 3)] = 43\n",
      "A[(1, 1, 2, 0)] = 44\n",
      "A[(1, 1, 2, 1)] = 45\n",
      "A[(1, 1, 2, 2)] = 46\n",
      "A[(1, 1, 2, 3)] = 47\n"
     ]
    }
   ],
   "source": [
    "# Given Alist ...\n",
    "import numpy as np\n",
    "AA = np.arange(len(Alist)) # len(Alist) == np.prod(lenpl)\n",
    "AA.shape=tuple(lenpl) # changing indexing methods ...\n",
    "for idx in Alist:\n",
    "    print('A[%s] = %d' % (idx, AA[idx]) )"
   ]
  },
  {
   "cell_type": "code",
   "execution_count": 5,
   "metadata": {},
   "outputs": [
    {
     "data": {
      "text/plain": [
       "[{'A1': 0, 'A2': 1},\n",
       " {'B1': 0, 'B2': 1},\n",
       " {'C1': 0, 'C2': 1, 'C3': 2},\n",
       " {'D1': 0, 'D2': 1, 'D3': 2, 'D4': 3}]"
      ]
     },
     "execution_count": 5,
     "metadata": {},
     "output_type": "execute_result"
    }
   ],
   "source": [
    "mydict=[]  # Creating a parameter dictionary\n",
    "for i in range(n): \n",
    "    mydict.append({})\n",
    "    for j in  range( len(plist[i]) ):\n",
    "        mydict[i][plist[i][j]] = j\n",
    "mydict"
   ]
  },
  {
   "cell_type": "code",
   "execution_count": 6,
   "metadata": {},
   "outputs": [
    {
     "name": "stdout",
     "output_type": "stream",
     "text": [
      "0 0 1 1\n"
     ]
    }
   ],
   "source": [
    "(a, b, c, d) = Alist[5]\n",
    "print(a, b, c, d)"
   ]
  },
  {
   "cell_type": "code",
   "execution_count": 7,
   "metadata": {},
   "outputs": [
    {
     "name": "stdout",
     "output_type": "stream",
     "text": [
      "(3, 3, 3)\n",
      "(3, 3, 2)\n",
      "(3, 3, 1)\n",
      "(3, 3, 0)\n",
      "(3, 2, 2)\n",
      "(3, 2, 1)\n",
      "(3, 2, 0)\n",
      "(3, 1, 1)\n",
      "(3, 1, 0)\n",
      "(3, 0, 0)\n",
      "(2, 2, 2)\n",
      "(2, 2, 1)\n",
      "(2, 2, 0)\n",
      "(2, 1, 1)\n",
      "(2, 1, 0)\n",
      "(2, 0, 0)\n",
      "(1, 1, 1)\n",
      "(1, 1, 0)\n",
      "(1, 0, 0)\n",
      "(0, 0, 0)\n"
     ]
    }
   ],
   "source": [
    "import itertools\n",
    "for comb in itertools.combinations_with_replacement(range(3, -1, -1), 3):\n",
    "        print(comb)"
   ]
  },
  {
   "cell_type": "code",
   "execution_count": 8,
   "metadata": {},
   "outputs": [
    {
     "name": "stdout",
     "output_type": "stream",
     "text": [
      "(0, 0, 0)\n",
      "(0, 0, 1)\n",
      "(0, 0, 2)\n",
      "(0, 1, 0)\n",
      "(0, 1, 1)\n",
      "(0, 1, 2)\n"
     ]
    }
   ],
   "source": [
    "counts = [1, 2, 3]\n",
    "ranges = [range(x) for x in counts]\n",
    "for i in itertools.product(*ranges):\n",
    "    print(i)"
   ]
  },
  {
   "cell_type": "code",
   "execution_count": 9,
   "metadata": {},
   "outputs": [],
   "source": [
    "if 3 < 4 : x = 5"
   ]
  },
  {
   "cell_type": "code",
   "execution_count": 10,
   "metadata": {},
   "outputs": [
    {
     "data": {
      "text/plain": [
       "5"
      ]
     },
     "execution_count": 10,
     "metadata": {},
     "output_type": "execute_result"
    }
   ],
   "source": [
    "x"
   ]
  },
  {
   "cell_type": "code",
   "execution_count": 11,
   "metadata": {},
   "outputs": [
    {
     "data": {
      "text/plain": [
       "[['A1', 'A2'], ['B1', 'B2'], ['C1', 'C2', 'C3'], ['D1', 'D2', 'D3', 'D4']]"
      ]
     },
     "execution_count": 11,
     "metadata": {},
     "output_type": "execute_result"
    }
   ],
   "source": [
    "plist"
   ]
  },
  {
   "cell_type": "code",
   "execution_count": 13,
   "metadata": {},
   "outputs": [
    {
     "data": {
      "text/plain": [
       "'B2'"
      ]
     },
     "execution_count": 13,
     "metadata": {},
     "output_type": "execute_result"
    }
   ],
   "source": [
    "plist[1][1]"
   ]
  },
  {
   "cell_type": "code",
   "execution_count": 14,
   "metadata": {},
   "outputs": [
    {
     "data": {
      "text/plain": [
       "[(0, 0, 0, 0),\n",
       " (0, 0, 0, 1),\n",
       " (0, 0, 0, 2),\n",
       " (0, 0, 0, 3),\n",
       " (0, 0, 1, 0),\n",
       " (0, 0, 1, 1),\n",
       " (0, 0, 1, 2),\n",
       " (0, 0, 1, 3),\n",
       " (0, 0, 2, 0),\n",
       " (0, 0, 2, 1),\n",
       " (0, 0, 2, 2),\n",
       " (0, 0, 2, 3),\n",
       " (0, 1, 0, 0),\n",
       " (0, 1, 0, 1),\n",
       " (0, 1, 0, 2),\n",
       " (0, 1, 0, 3),\n",
       " (0, 1, 1, 0),\n",
       " (0, 1, 1, 1),\n",
       " (0, 1, 1, 2),\n",
       " (0, 1, 1, 3),\n",
       " (0, 1, 2, 0),\n",
       " (0, 1, 2, 1),\n",
       " (0, 1, 2, 2),\n",
       " (0, 1, 2, 3),\n",
       " (1, 0, 0, 0),\n",
       " (1, 0, 0, 1),\n",
       " (1, 0, 0, 2),\n",
       " (1, 0, 0, 3),\n",
       " (1, 0, 1, 0),\n",
       " (1, 0, 1, 1),\n",
       " (1, 0, 1, 2),\n",
       " (1, 0, 1, 3),\n",
       " (1, 0, 2, 0),\n",
       " (1, 0, 2, 1),\n",
       " (1, 0, 2, 2),\n",
       " (1, 0, 2, 3),\n",
       " (1, 1, 0, 0),\n",
       " (1, 1, 0, 1),\n",
       " (1, 1, 0, 2),\n",
       " (1, 1, 0, 3),\n",
       " (1, 1, 1, 0),\n",
       " (1, 1, 1, 1),\n",
       " (1, 1, 1, 2),\n",
       " (1, 1, 1, 3),\n",
       " (1, 1, 2, 0),\n",
       " (1, 1, 2, 1),\n",
       " (1, 1, 2, 2),\n",
       " (1, 1, 2, 3)]"
      ]
     },
     "execution_count": 14,
     "metadata": {},
     "output_type": "execute_result"
    }
   ],
   "source": [
    "Alist"
   ]
  },
  {
   "cell_type": "code",
   "execution_count": 15,
   "metadata": {},
   "outputs": [
    {
     "ename": "NameError",
     "evalue": "name 'Blist' is not defined",
     "output_type": "error",
     "traceback": [
      "\u001b[0;31m---------------------------------------------------------------------------\u001b[0m",
      "\u001b[0;31mNameError\u001b[0m                                 Traceback (most recent call last)",
      "\u001b[0;32m<ipython-input-15-7c49bd10f2b1>\u001b[0m in \u001b[0;36m<module>\u001b[0;34m\u001b[0m\n\u001b[0;32m----> 1\u001b[0;31m \u001b[0mBlist\u001b[0m\u001b[0;34m[\u001b[0m\u001b[0;36m0\u001b[0m\u001b[0;34m,\u001b[0m\u001b[0;36m0\u001b[0m\u001b[0;34m,\u001b[0m\u001b[0;36m0\u001b[0m\u001b[0;34m,\u001b[0m\u001b[0;36m0\u001b[0m\u001b[0;34m]\u001b[0m \u001b[0;34m=\u001b[0m \u001b[0;36m3\u001b[0m\u001b[0;34m\u001b[0m\u001b[0;34m\u001b[0m\u001b[0m\n\u001b[0m",
      "\u001b[0;31mNameError\u001b[0m: name 'Blist' is not defined"
     ]
    }
   ],
   "source": [
    "Blist[0,0,0,0] = 3"
   ]
  },
  {
   "cell_type": "code",
   "execution_count": 22,
   "metadata": {},
   "outputs": [
    {
     "data": {
      "text/plain": [
       "array([ 0,  1,  2,  3,  4,  5,  6,  7,  8,  9, 10, 11, 12, 13, 14, 15, 16,\n",
       "       17, 18, 19, 20, 21, 22, 23])"
      ]
     },
     "execution_count": 22,
     "metadata": {},
     "output_type": "execute_result"
    }
   ],
   "source": [
    "import numpy as np\n",
    "AA = np.arange(24)\n",
    "AA"
   ]
  },
  {
   "cell_type": "code",
   "execution_count": 24,
   "metadata": {},
   "outputs": [
    {
     "data": {
      "text/plain": [
       "array([[ 0,  1,  2,  3,  4,  5],\n",
       "       [ 6,  7,  8,  9, 10, 11],\n",
       "       [12, 13, 14, 15, 16, 17],\n",
       "       [18, 19, 20, 21, 22, 23]])"
      ]
     },
     "execution_count": 24,
     "metadata": {},
     "output_type": "execute_result"
    }
   ],
   "source": [
    "AA.shape= (4,6)\n",
    "AA"
   ]
  },
  {
   "cell_type": "code",
   "execution_count": null,
   "metadata": {},
   "outputs": [],
   "source": []
  }
 ],
 "metadata": {
  "kernelspec": {
   "display_name": "Python 3",
   "language": "python",
   "name": "python3"
  },
  "language_info": {
   "codemirror_mode": {
    "name": "ipython",
    "version": 3
   },
   "file_extension": ".py",
   "mimetype": "text/x-python",
   "name": "python",
   "nbconvert_exporter": "python",
   "pygments_lexer": "ipython3",
   "version": "3.6.7"
  }
 },
 "nbformat": 4,
 "nbformat_minor": 2
}
