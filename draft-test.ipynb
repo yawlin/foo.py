{
 "cells": [
  {
   "cell_type": "code",
   "execution_count": 1,
   "metadata": {},
   "outputs": [],
   "source": [
    "\n",
    "import random\n",
    "random.seed('yll')"
   ]
  },
  {
   "cell_type": "code",
   "execution_count": 2,
   "metadata": {},
   "outputs": [
    {
     "data": {
      "text/plain": [
       "[['A1', 'A2'], ['B1', 'B2'], ['C1', 'C2', 'C3'], ['D1', 'D2', 'D3', 'D4']]"
      ]
     },
     "execution_count": 2,
     "metadata": {},
     "output_type": "execute_result"
    }
   ],
   "source": [
    "s, t = 2, 4\n",
    "n = 4\n",
    "plist=[]  # Creating a random parameter list\n",
    "for i in range(n): \n",
    "    plist.append( [ \"%s%d\" % ( chr(65+i), j+1) for j in range(random.randint(s, t)) ] )\n",
    "plist"
   ]
  },
  {
   "cell_type": "code",
   "execution_count": 3,
   "metadata": {},
   "outputs": [
    {
     "data": {
      "text/plain": [
       "[2, 2, 3, 4]"
      ]
     },
     "execution_count": 3,
     "metadata": {},
     "output_type": "execute_result"
    }
   ],
   "source": [
    "# Here we show how to enumerate all possible parameter lists contents ...\n",
    "lenpl=[len(plist[x]) for x in range(n)]\n",
    "lenpl"
   ]
  },
  {
   "cell_type": "code",
   "execution_count": 4,
   "metadata": {},
   "outputs": [
    {
     "name": "stdout",
     "output_type": "stream",
     "text": [
      "[(0, 0, 0, 0), (0, 0, 0, 1), (0, 0, 0, 2), (0, 0, 0, 3), (0, 0, 1, 0), (0, 0, 1, 1), (0, 0, 1, 2), (0, 0, 1, 3), (0, 0, 2, 0), (0, 0, 2, 1), (0, 0, 2, 2), (0, 0, 2, 3), (0, 1, 0, 0), (0, 1, 0, 1), (0, 1, 0, 2), (0, 1, 0, 3), (0, 1, 1, 0), (0, 1, 1, 1), (0, 1, 1, 2), (0, 1, 1, 3), (0, 1, 2, 0), (0, 1, 2, 1), (0, 1, 2, 2), (0, 1, 2, 3), (1, 0, 0, 0), (1, 0, 0, 1), (1, 0, 0, 2), (1, 0, 0, 3), (1, 0, 1, 0), (1, 0, 1, 1), (1, 0, 1, 2), (1, 0, 1, 3), (1, 0, 2, 0), (1, 0, 2, 1), (1, 0, 2, 2), (1, 0, 2, 3), (1, 1, 0, 0), (1, 1, 0, 1), (1, 1, 0, 2), (1, 1, 0, 3), (1, 1, 1, 0), (1, 1, 1, 1), (1, 1, 1, 2), (1, 1, 1, 3), (1, 1, 2, 0), (1, 1, 2, 1), (1, 1, 2, 2), (1, 1, 2, 3)] --> 48\n"
     ]
    }
   ],
   "source": [
    "import itertools\n",
    "\n",
    "ranges = [range(x) for x in lenpl]\n",
    "Alist=[x for x in itertools.product(*ranges) ]\n",
    "print(Alist, '-->', len(Alist))"
   ]
  },
  {
   "cell_type": "code",
   "execution_count": 32,
   "metadata": {},
   "outputs": [
    {
     "name": "stdout",
     "output_type": "stream",
     "text": [
      "A[(0, 0, 0, 0)] = 0\n",
      "A[(0, 0, 0, 1)] = 1\n",
      "A[(0, 0, 0, 2)] = 2\n",
      "A[(0, 0, 0, 3)] = 3\n",
      "A[(0, 0, 1, 0)] = 4\n",
      "A[(0, 0, 1, 1)] = 5\n",
      "A[(0, 0, 1, 2)] = 6\n",
      "A[(0, 0, 1, 3)] = 7\n",
      "A[(0, 0, 2, 0)] = 8\n",
      "A[(0, 0, 2, 1)] = 9\n",
      "A[(0, 0, 2, 2)] = 10\n",
      "A[(0, 0, 2, 3)] = 11\n",
      "A[(0, 1, 0, 0)] = 12\n",
      "A[(0, 1, 0, 1)] = 13\n",
      "A[(0, 1, 0, 2)] = 14\n",
      "A[(0, 1, 0, 3)] = 15\n",
      "A[(0, 1, 1, 0)] = 16\n",
      "A[(0, 1, 1, 1)] = 17\n",
      "A[(0, 1, 1, 2)] = 18\n",
      "A[(0, 1, 1, 3)] = 19\n",
      "A[(0, 1, 2, 0)] = 20\n",
      "A[(0, 1, 2, 1)] = 21\n",
      "A[(0, 1, 2, 2)] = 22\n",
      "A[(0, 1, 2, 3)] = 23\n",
      "A[(1, 0, 0, 0)] = 24\n",
      "A[(1, 0, 0, 1)] = 25\n",
      "A[(1, 0, 0, 2)] = 26\n",
      "A[(1, 0, 0, 3)] = 27\n",
      "A[(1, 0, 1, 0)] = 28\n",
      "A[(1, 0, 1, 1)] = 29\n",
      "A[(1, 0, 1, 2)] = 30\n",
      "A[(1, 0, 1, 3)] = 31\n",
      "A[(1, 0, 2, 0)] = 32\n",
      "A[(1, 0, 2, 1)] = 33\n",
      "A[(1, 0, 2, 2)] = 34\n",
      "A[(1, 0, 2, 3)] = 35\n",
      "A[(1, 1, 0, 0)] = 36\n",
      "A[(1, 1, 0, 1)] = 37\n",
      "A[(1, 1, 0, 2)] = 38\n",
      "A[(1, 1, 0, 3)] = 39\n",
      "A[(1, 1, 1, 0)] = 40\n",
      "A[(1, 1, 1, 1)] = 41\n",
      "A[(1, 1, 1, 2)] = 42\n",
      "A[(1, 1, 1, 3)] = 43\n",
      "A[(1, 1, 2, 0)] = 44\n",
      "A[(1, 1, 2, 1)] = 45\n",
      "A[(1, 1, 2, 2)] = 46\n",
      "A[(1, 1, 2, 3)] = 47\n"
     ]
    }
   ],
   "source": [
    "# Given Alist ...\n",
    "import numpy as np\n",
    "AA = np.arange(len(Alist)) # len(Alist) == np.prod(lenpl)\n",
    "AA.shape=tuple(lenpl) # changing indexing methods ...\n",
    "for idx in Alist:\n",
    "    print('A[%s] = %d' % (idx, AA[idx]) )"
   ]
  },
  {
   "cell_type": "code",
   "execution_count": 5,
   "metadata": {},
   "outputs": [
    {
     "data": {
      "text/plain": [
       "[{'A1': 0, 'A2': 1},\n",
       " {'B1': 0, 'B2': 1},\n",
       " {'C1': 0, 'C2': 1, 'C3': 2},\n",
       " {'D1': 0, 'D2': 1, 'D3': 2, 'D4': 3}]"
      ]
     },
     "execution_count": 5,
     "metadata": {},
     "output_type": "execute_result"
    }
   ],
   "source": [
    "mydict=[]  # Creating a parameter dictionary\n",
    "for i in range(n): \n",
    "    mydict.append({})\n",
    "    for j in  range( len(plist[i]) ):\n",
    "        mydict[i][plist[i][j]] = j\n",
    "mydict"
   ]
  },
  {
   "cell_type": "code",
   "execution_count": 35,
   "metadata": {},
   "outputs": [
    {
     "name": "stdout",
     "output_type": "stream",
     "text": [
      "[[5.8 2.8]\n",
      " [6.  2.2]]\n",
      "   Column1  Column2\n",
      "0      5.8      2.8\n",
      "1      6.0      2.2\n"
     ]
    },
    {
     "ename": "ValueError",
     "evalue": "If using all scalar values, you must pass an index",
     "output_type": "error",
     "traceback": [
      "\u001b[0;31m---------------------------------------------------------------------------\u001b[0m",
      "\u001b[0;31mValueError\u001b[0m                                Traceback (most recent call last)",
      "\u001b[0;32m<ipython-input-35-c862f86c826d>\u001b[0m in \u001b[0;36m<module>\u001b[0;34m\u001b[0m\n\u001b[1;32m     10\u001b[0m \u001b[0;34m\u001b[0m\u001b[0m\n\u001b[1;32m     11\u001b[0m \u001b[0;31m#Creating pandas dataframe from numpy array\u001b[0m\u001b[0;34m\u001b[0m\u001b[0;34m\u001b[0m\u001b[0;34m\u001b[0m\u001b[0m\n\u001b[0;32m---> 12\u001b[0;31m \u001b[0mdataset2\u001b[0m \u001b[0;34m=\u001b[0m \u001b[0mpd\u001b[0m\u001b[0;34m.\u001b[0m\u001b[0mDataFrame\u001b[0m\u001b[0;34m(\u001b[0m\u001b[0;34m{\u001b[0m\u001b[0;34m'Column1'\u001b[0m\u001b[0;34m:\u001b[0m\u001b[0mAA\u001b[0m\u001b[0;34m[\u001b[0m\u001b[0;34m:\u001b[0m\u001b[0;34m,\u001b[0m\u001b[0;36m0\u001b[0m\u001b[0;34m]\u001b[0m\u001b[0;34m,\u001b[0m\u001b[0;34m'Column2'\u001b[0m\u001b[0;34m:\u001b[0m\u001b[0mAA\u001b[0m\u001b[0;34m[\u001b[0m\u001b[0;34m:\u001b[0m\u001b[0;34m,\u001b[0m\u001b[0;36m1\u001b[0m\u001b[0;34m]\u001b[0m\u001b[0;34m}\u001b[0m\u001b[0;34m)\u001b[0m\u001b[0;34m\u001b[0m\u001b[0;34m\u001b[0m\u001b[0m\n\u001b[0m\u001b[1;32m     13\u001b[0m \u001b[0mprint\u001b[0m\u001b[0;34m(\u001b[0m\u001b[0mdataset2\u001b[0m\u001b[0;34m)\u001b[0m\u001b[0;34m\u001b[0m\u001b[0;34m\u001b[0m\u001b[0m\n",
      "\u001b[0;32m~/.local/lib/python3.6/site-packages/pandas/core/frame.py\u001b[0m in \u001b[0;36m__init__\u001b[0;34m(self, data, index, columns, dtype, copy)\u001b[0m\n\u001b[1;32m    390\u001b[0m                                  dtype=dtype, copy=copy)\n\u001b[1;32m    391\u001b[0m         \u001b[0;32melif\u001b[0m \u001b[0misinstance\u001b[0m\u001b[0;34m(\u001b[0m\u001b[0mdata\u001b[0m\u001b[0;34m,\u001b[0m \u001b[0mdict\u001b[0m\u001b[0;34m)\u001b[0m\u001b[0;34m:\u001b[0m\u001b[0;34m\u001b[0m\u001b[0;34m\u001b[0m\u001b[0m\n\u001b[0;32m--> 392\u001b[0;31m             \u001b[0mmgr\u001b[0m \u001b[0;34m=\u001b[0m \u001b[0minit_dict\u001b[0m\u001b[0;34m(\u001b[0m\u001b[0mdata\u001b[0m\u001b[0;34m,\u001b[0m \u001b[0mindex\u001b[0m\u001b[0;34m,\u001b[0m \u001b[0mcolumns\u001b[0m\u001b[0;34m,\u001b[0m \u001b[0mdtype\u001b[0m\u001b[0;34m=\u001b[0m\u001b[0mdtype\u001b[0m\u001b[0;34m)\u001b[0m\u001b[0;34m\u001b[0m\u001b[0;34m\u001b[0m\u001b[0m\n\u001b[0m\u001b[1;32m    393\u001b[0m         \u001b[0;32melif\u001b[0m \u001b[0misinstance\u001b[0m\u001b[0;34m(\u001b[0m\u001b[0mdata\u001b[0m\u001b[0;34m,\u001b[0m \u001b[0mma\u001b[0m\u001b[0;34m.\u001b[0m\u001b[0mMaskedArray\u001b[0m\u001b[0;34m)\u001b[0m\u001b[0;34m:\u001b[0m\u001b[0;34m\u001b[0m\u001b[0;34m\u001b[0m\u001b[0m\n\u001b[1;32m    394\u001b[0m             \u001b[0;32mimport\u001b[0m \u001b[0mnumpy\u001b[0m\u001b[0;34m.\u001b[0m\u001b[0mma\u001b[0m\u001b[0;34m.\u001b[0m\u001b[0mmrecords\u001b[0m \u001b[0;32mas\u001b[0m \u001b[0mmrecords\u001b[0m\u001b[0;34m\u001b[0m\u001b[0;34m\u001b[0m\u001b[0m\n",
      "\u001b[0;32m~/.local/lib/python3.6/site-packages/pandas/core/internals/construction.py\u001b[0m in \u001b[0;36minit_dict\u001b[0;34m(data, index, columns, dtype)\u001b[0m\n\u001b[1;32m    210\u001b[0m         \u001b[0marrays\u001b[0m \u001b[0;34m=\u001b[0m \u001b[0;34m[\u001b[0m\u001b[0mdata\u001b[0m\u001b[0;34m[\u001b[0m\u001b[0mk\u001b[0m\u001b[0;34m]\u001b[0m \u001b[0;32mfor\u001b[0m \u001b[0mk\u001b[0m \u001b[0;32min\u001b[0m \u001b[0mkeys\u001b[0m\u001b[0;34m]\u001b[0m\u001b[0;34m\u001b[0m\u001b[0;34m\u001b[0m\u001b[0m\n\u001b[1;32m    211\u001b[0m \u001b[0;34m\u001b[0m\u001b[0m\n\u001b[0;32m--> 212\u001b[0;31m     \u001b[0;32mreturn\u001b[0m \u001b[0marrays_to_mgr\u001b[0m\u001b[0;34m(\u001b[0m\u001b[0marrays\u001b[0m\u001b[0;34m,\u001b[0m \u001b[0mdata_names\u001b[0m\u001b[0;34m,\u001b[0m \u001b[0mindex\u001b[0m\u001b[0;34m,\u001b[0m \u001b[0mcolumns\u001b[0m\u001b[0;34m,\u001b[0m \u001b[0mdtype\u001b[0m\u001b[0;34m=\u001b[0m\u001b[0mdtype\u001b[0m\u001b[0;34m)\u001b[0m\u001b[0;34m\u001b[0m\u001b[0;34m\u001b[0m\u001b[0m\n\u001b[0m\u001b[1;32m    213\u001b[0m \u001b[0;34m\u001b[0m\u001b[0m\n\u001b[1;32m    214\u001b[0m \u001b[0;34m\u001b[0m\u001b[0m\n",
      "\u001b[0;32m~/.local/lib/python3.6/site-packages/pandas/core/internals/construction.py\u001b[0m in \u001b[0;36marrays_to_mgr\u001b[0;34m(arrays, arr_names, index, columns, dtype)\u001b[0m\n\u001b[1;32m     49\u001b[0m     \u001b[0;31m# figure out the index, if necessary\u001b[0m\u001b[0;34m\u001b[0m\u001b[0;34m\u001b[0m\u001b[0;34m\u001b[0m\u001b[0m\n\u001b[1;32m     50\u001b[0m     \u001b[0;32mif\u001b[0m \u001b[0mindex\u001b[0m \u001b[0;32mis\u001b[0m \u001b[0;32mNone\u001b[0m\u001b[0;34m:\u001b[0m\u001b[0;34m\u001b[0m\u001b[0;34m\u001b[0m\u001b[0m\n\u001b[0;32m---> 51\u001b[0;31m         \u001b[0mindex\u001b[0m \u001b[0;34m=\u001b[0m \u001b[0mextract_index\u001b[0m\u001b[0;34m(\u001b[0m\u001b[0marrays\u001b[0m\u001b[0;34m)\u001b[0m\u001b[0;34m\u001b[0m\u001b[0;34m\u001b[0m\u001b[0m\n\u001b[0m\u001b[1;32m     52\u001b[0m     \u001b[0;32melse\u001b[0m\u001b[0;34m:\u001b[0m\u001b[0;34m\u001b[0m\u001b[0;34m\u001b[0m\u001b[0m\n\u001b[1;32m     53\u001b[0m         \u001b[0mindex\u001b[0m \u001b[0;34m=\u001b[0m \u001b[0mensure_index\u001b[0m\u001b[0;34m(\u001b[0m\u001b[0mindex\u001b[0m\u001b[0;34m)\u001b[0m\u001b[0;34m\u001b[0m\u001b[0;34m\u001b[0m\u001b[0m\n",
      "\u001b[0;32m~/.local/lib/python3.6/site-packages/pandas/core/internals/construction.py\u001b[0m in \u001b[0;36mextract_index\u001b[0;34m(data)\u001b[0m\n\u001b[1;32m    306\u001b[0m \u001b[0;34m\u001b[0m\u001b[0m\n\u001b[1;32m    307\u001b[0m         \u001b[0;32mif\u001b[0m \u001b[0;32mnot\u001b[0m \u001b[0mindexes\u001b[0m \u001b[0;32mand\u001b[0m \u001b[0;32mnot\u001b[0m \u001b[0mraw_lengths\u001b[0m\u001b[0;34m:\u001b[0m\u001b[0;34m\u001b[0m\u001b[0;34m\u001b[0m\u001b[0m\n\u001b[0;32m--> 308\u001b[0;31m             raise ValueError('If using all scalar values, you must pass'\n\u001b[0m\u001b[1;32m    309\u001b[0m                              ' an index')\n\u001b[1;32m    310\u001b[0m \u001b[0;34m\u001b[0m\u001b[0m\n",
      "\u001b[0;31mValueError\u001b[0m: If using all scalar values, you must pass an index"
     ]
    }
   ],
   "source": [
    "import numpy as np\n",
    "import pandas as pd\n",
    "# Creating a 2 dimensional numpy array\n",
    "data= np.array([[ 5.8,2.8], [ 6.0,2.2]])\n",
    "print(data)\n",
    "\n",
    "#Creating pandas dataframe from numpy array\n",
    "dataset = pd.DataFrame({'Column1':data[:,0],'Column2':data[:,1]})\n",
    "print(dataset)\n",
    "\n",
    "#Creating pandas dataframe from numpy array\n",
    "dataset2 = pd.DataFrame({'Column1':range(2), AA[:,0],'Column2':AA[:,1]})\n",
    "print(dataset2)"
   ]
  },
  {
   "cell_type": "code",
   "execution_count": 36,
   "metadata": {},
   "outputs": [
    {
     "data": {
      "text/html": [
       "<div>\n",
       "<style scoped>\n",
       "    .dataframe tbody tr th:only-of-type {\n",
       "        vertical-align: middle;\n",
       "    }\n",
       "\n",
       "    .dataframe tbody tr th {\n",
       "        vertical-align: top;\n",
       "    }\n",
       "\n",
       "    .dataframe thead th {\n",
       "        text-align: right;\n",
       "    }\n",
       "</style>\n",
       "<table border=\"1\" class=\"dataframe\">\n",
       "  <thead>\n",
       "    <tr style=\"text-align: right;\">\n",
       "      <th></th>\n",
       "      <th>lib</th>\n",
       "      <th>qty1</th>\n",
       "      <th>qty2</th>\n",
       "    </tr>\n",
       "  </thead>\n",
       "  <tbody>\n",
       "    <tr>\n",
       "      <th>0</th>\n",
       "      <td>name0</td>\n",
       "      <td>9</td>\n",
       "      <td>5</td>\n",
       "    </tr>\n",
       "    <tr>\n",
       "      <th>1</th>\n",
       "      <td>name1</td>\n",
       "      <td>9</td>\n",
       "      <td>5</td>\n",
       "    </tr>\n",
       "    <tr>\n",
       "      <th>2</th>\n",
       "      <td>name2</td>\n",
       "      <td>2</td>\n",
       "      <td>7</td>\n",
       "    </tr>\n",
       "    <tr>\n",
       "      <th>3</th>\n",
       "      <td>name3</td>\n",
       "      <td>6</td>\n",
       "      <td>0</td>\n",
       "    </tr>\n",
       "    <tr>\n",
       "      <th>4</th>\n",
       "      <td>name4</td>\n",
       "      <td>5</td>\n",
       "      <td>0</td>\n",
       "    </tr>\n",
       "  </tbody>\n",
       "</table>\n",
       "</div>"
      ],
      "text/plain": [
       "     lib qty1 qty2\n",
       "0  name0    9    5\n",
       "1  name1    9    5\n",
       "2  name2    2    7\n",
       "3  name3    6    0\n",
       "4  name4    5    0"
      ]
     },
     "execution_count": 36,
     "metadata": {},
     "output_type": "execute_result"
    }
   ],
   "source": [
    "import pandas as pd\n",
    "from numpy.random import randint\n",
    "df = pd.DataFrame(columns=['lib', 'qty1', 'qty2'])\n",
    "for i in range(5):\n",
    "    df.loc[i] = ['name' + str(i)] + list(randint(10, size=2))\n",
    "df    "
   ]
  },
  {
   "cell_type": "code",
   "execution_count": 70,
   "metadata": {},
   "outputs": [
    {
     "data": {
      "text/html": [
       "<div>\n",
       "<style scoped>\n",
       "    .dataframe tbody tr th:only-of-type {\n",
       "        vertical-align: middle;\n",
       "    }\n",
       "\n",
       "    .dataframe tbody tr th {\n",
       "        vertical-align: top;\n",
       "    }\n",
       "\n",
       "    .dataframe thead th {\n",
       "        text-align: right;\n",
       "    }\n",
       "</style>\n",
       "<table border=\"1\" class=\"dataframe\">\n",
       "  <thead>\n",
       "    <tr style=\"text-align: right;\">\n",
       "      <th></th>\n",
       "      <th>A</th>\n",
       "      <th>B</th>\n",
       "      <th>C</th>\n",
       "      <th>D</th>\n",
       "      <th>V</th>\n",
       "    </tr>\n",
       "  </thead>\n",
       "  <tbody>\n",
       "    <tr>\n",
       "      <th>35</th>\n",
       "      <td>A2</td>\n",
       "      <td>B1</td>\n",
       "      <td>2</td>\n",
       "      <td>3</td>\n",
       "      <td>0.990738</td>\n",
       "    </tr>\n",
       "    <tr>\n",
       "      <th>24</th>\n",
       "      <td>A2</td>\n",
       "      <td>B1</td>\n",
       "      <td>0</td>\n",
       "      <td>0</td>\n",
       "      <td>0.962206</td>\n",
       "    </tr>\n",
       "    <tr>\n",
       "      <th>16</th>\n",
       "      <td>A1</td>\n",
       "      <td>B2</td>\n",
       "      <td>1</td>\n",
       "      <td>0</td>\n",
       "      <td>0.956361</td>\n",
       "    </tr>\n",
       "    <tr>\n",
       "      <th>19</th>\n",
       "      <td>A1</td>\n",
       "      <td>B2</td>\n",
       "      <td>1</td>\n",
       "      <td>3</td>\n",
       "      <td>0.950050</td>\n",
       "    </tr>\n",
       "    <tr>\n",
       "      <th>0</th>\n",
       "      <td>A1</td>\n",
       "      <td>B1</td>\n",
       "      <td>0</td>\n",
       "      <td>0</td>\n",
       "      <td>0.946473</td>\n",
       "    </tr>\n",
       "    <tr>\n",
       "      <th>9</th>\n",
       "      <td>A1</td>\n",
       "      <td>B1</td>\n",
       "      <td>2</td>\n",
       "      <td>1</td>\n",
       "      <td>0.945736</td>\n",
       "    </tr>\n",
       "    <tr>\n",
       "      <th>7</th>\n",
       "      <td>A1</td>\n",
       "      <td>B1</td>\n",
       "      <td>1</td>\n",
       "      <td>3</td>\n",
       "      <td>0.904997</td>\n",
       "    </tr>\n",
       "    <tr>\n",
       "      <th>3</th>\n",
       "      <td>A1</td>\n",
       "      <td>B1</td>\n",
       "      <td>0</td>\n",
       "      <td>3</td>\n",
       "      <td>0.901096</td>\n",
       "    </tr>\n",
       "    <tr>\n",
       "      <th>45</th>\n",
       "      <td>A2</td>\n",
       "      <td>B2</td>\n",
       "      <td>2</td>\n",
       "      <td>1</td>\n",
       "      <td>0.894555</td>\n",
       "    </tr>\n",
       "    <tr>\n",
       "      <th>22</th>\n",
       "      <td>A1</td>\n",
       "      <td>B2</td>\n",
       "      <td>2</td>\n",
       "      <td>2</td>\n",
       "      <td>0.889443</td>\n",
       "    </tr>\n",
       "    <tr>\n",
       "      <th>11</th>\n",
       "      <td>A1</td>\n",
       "      <td>B1</td>\n",
       "      <td>2</td>\n",
       "      <td>3</td>\n",
       "      <td>0.882518</td>\n",
       "    </tr>\n",
       "    <tr>\n",
       "      <th>39</th>\n",
       "      <td>A2</td>\n",
       "      <td>B2</td>\n",
       "      <td>0</td>\n",
       "      <td>3</td>\n",
       "      <td>0.882184</td>\n",
       "    </tr>\n",
       "    <tr>\n",
       "      <th>4</th>\n",
       "      <td>A1</td>\n",
       "      <td>B1</td>\n",
       "      <td>1</td>\n",
       "      <td>0</td>\n",
       "      <td>0.876580</td>\n",
       "    </tr>\n",
       "    <tr>\n",
       "      <th>42</th>\n",
       "      <td>A2</td>\n",
       "      <td>B2</td>\n",
       "      <td>1</td>\n",
       "      <td>2</td>\n",
       "      <td>0.872612</td>\n",
       "    </tr>\n",
       "    <tr>\n",
       "      <th>29</th>\n",
       "      <td>A2</td>\n",
       "      <td>B1</td>\n",
       "      <td>1</td>\n",
       "      <td>1</td>\n",
       "      <td>0.870786</td>\n",
       "    </tr>\n",
       "    <tr>\n",
       "      <th>10</th>\n",
       "      <td>A1</td>\n",
       "      <td>B1</td>\n",
       "      <td>2</td>\n",
       "      <td>2</td>\n",
       "      <td>0.862220</td>\n",
       "    </tr>\n",
       "    <tr>\n",
       "      <th>46</th>\n",
       "      <td>A2</td>\n",
       "      <td>B2</td>\n",
       "      <td>2</td>\n",
       "      <td>2</td>\n",
       "      <td>0.821461</td>\n",
       "    </tr>\n",
       "    <tr>\n",
       "      <th>47</th>\n",
       "      <td>A2</td>\n",
       "      <td>B2</td>\n",
       "      <td>2</td>\n",
       "      <td>3</td>\n",
       "      <td>0.819696</td>\n",
       "    </tr>\n",
       "    <tr>\n",
       "      <th>6</th>\n",
       "      <td>A1</td>\n",
       "      <td>B1</td>\n",
       "      <td>1</td>\n",
       "      <td>2</td>\n",
       "      <td>0.814124</td>\n",
       "    </tr>\n",
       "    <tr>\n",
       "      <th>30</th>\n",
       "      <td>A2</td>\n",
       "      <td>B1</td>\n",
       "      <td>1</td>\n",
       "      <td>2</td>\n",
       "      <td>0.800671</td>\n",
       "    </tr>\n",
       "    <tr>\n",
       "      <th>44</th>\n",
       "      <td>A2</td>\n",
       "      <td>B2</td>\n",
       "      <td>2</td>\n",
       "      <td>0</td>\n",
       "      <td>0.787750</td>\n",
       "    </tr>\n",
       "    <tr>\n",
       "      <th>36</th>\n",
       "      <td>A2</td>\n",
       "      <td>B2</td>\n",
       "      <td>0</td>\n",
       "      <td>0</td>\n",
       "      <td>0.776058</td>\n",
       "    </tr>\n",
       "    <tr>\n",
       "      <th>23</th>\n",
       "      <td>A1</td>\n",
       "      <td>B2</td>\n",
       "      <td>2</td>\n",
       "      <td>3</td>\n",
       "      <td>0.775265</td>\n",
       "    </tr>\n",
       "    <tr>\n",
       "      <th>15</th>\n",
       "      <td>A1</td>\n",
       "      <td>B2</td>\n",
       "      <td>0</td>\n",
       "      <td>3</td>\n",
       "      <td>0.768675</td>\n",
       "    </tr>\n",
       "    <tr>\n",
       "      <th>20</th>\n",
       "      <td>A1</td>\n",
       "      <td>B2</td>\n",
       "      <td>2</td>\n",
       "      <td>0</td>\n",
       "      <td>0.740659</td>\n",
       "    </tr>\n",
       "    <tr>\n",
       "      <th>41</th>\n",
       "      <td>A2</td>\n",
       "      <td>B2</td>\n",
       "      <td>1</td>\n",
       "      <td>1</td>\n",
       "      <td>0.736962</td>\n",
       "    </tr>\n",
       "    <tr>\n",
       "      <th>2</th>\n",
       "      <td>A1</td>\n",
       "      <td>B1</td>\n",
       "      <td>0</td>\n",
       "      <td>2</td>\n",
       "      <td>0.735033</td>\n",
       "    </tr>\n",
       "    <tr>\n",
       "      <th>12</th>\n",
       "      <td>A1</td>\n",
       "      <td>B2</td>\n",
       "      <td>0</td>\n",
       "      <td>0</td>\n",
       "      <td>0.726126</td>\n",
       "    </tr>\n",
       "    <tr>\n",
       "      <th>38</th>\n",
       "      <td>A2</td>\n",
       "      <td>B2</td>\n",
       "      <td>0</td>\n",
       "      <td>2</td>\n",
       "      <td>0.722442</td>\n",
       "    </tr>\n",
       "    <tr>\n",
       "      <th>27</th>\n",
       "      <td>A2</td>\n",
       "      <td>B1</td>\n",
       "      <td>0</td>\n",
       "      <td>3</td>\n",
       "      <td>0.714677</td>\n",
       "    </tr>\n",
       "    <tr>\n",
       "      <th>1</th>\n",
       "      <td>A1</td>\n",
       "      <td>B1</td>\n",
       "      <td>0</td>\n",
       "      <td>1</td>\n",
       "      <td>0.714361</td>\n",
       "    </tr>\n",
       "    <tr>\n",
       "      <th>32</th>\n",
       "      <td>A2</td>\n",
       "      <td>B1</td>\n",
       "      <td>2</td>\n",
       "      <td>0</td>\n",
       "      <td>0.709120</td>\n",
       "    </tr>\n",
       "    <tr>\n",
       "      <th>43</th>\n",
       "      <td>A2</td>\n",
       "      <td>B2</td>\n",
       "      <td>1</td>\n",
       "      <td>3</td>\n",
       "      <td>0.636808</td>\n",
       "    </tr>\n",
       "    <tr>\n",
       "      <th>28</th>\n",
       "      <td>A2</td>\n",
       "      <td>B1</td>\n",
       "      <td>1</td>\n",
       "      <td>0</td>\n",
       "      <td>0.633721</td>\n",
       "    </tr>\n",
       "    <tr>\n",
       "      <th>17</th>\n",
       "      <td>A1</td>\n",
       "      <td>B2</td>\n",
       "      <td>1</td>\n",
       "      <td>1</td>\n",
       "      <td>0.623963</td>\n",
       "    </tr>\n",
       "    <tr>\n",
       "      <th>13</th>\n",
       "      <td>A1</td>\n",
       "      <td>B2</td>\n",
       "      <td>0</td>\n",
       "      <td>1</td>\n",
       "      <td>0.623681</td>\n",
       "    </tr>\n",
       "    <tr>\n",
       "      <th>14</th>\n",
       "      <td>A1</td>\n",
       "      <td>B2</td>\n",
       "      <td>0</td>\n",
       "      <td>2</td>\n",
       "      <td>0.623218</td>\n",
       "    </tr>\n",
       "    <tr>\n",
       "      <th>26</th>\n",
       "      <td>A2</td>\n",
       "      <td>B1</td>\n",
       "      <td>0</td>\n",
       "      <td>2</td>\n",
       "      <td>0.608870</td>\n",
       "    </tr>\n",
       "    <tr>\n",
       "      <th>33</th>\n",
       "      <td>A2</td>\n",
       "      <td>B1</td>\n",
       "      <td>2</td>\n",
       "      <td>1</td>\n",
       "      <td>0.597625</td>\n",
       "    </tr>\n",
       "    <tr>\n",
       "      <th>40</th>\n",
       "      <td>A2</td>\n",
       "      <td>B2</td>\n",
       "      <td>1</td>\n",
       "      <td>0</td>\n",
       "      <td>0.589736</td>\n",
       "    </tr>\n",
       "    <tr>\n",
       "      <th>34</th>\n",
       "      <td>A2</td>\n",
       "      <td>B1</td>\n",
       "      <td>2</td>\n",
       "      <td>2</td>\n",
       "      <td>0.577918</td>\n",
       "    </tr>\n",
       "    <tr>\n",
       "      <th>21</th>\n",
       "      <td>A1</td>\n",
       "      <td>B2</td>\n",
       "      <td>2</td>\n",
       "      <td>1</td>\n",
       "      <td>0.577095</td>\n",
       "    </tr>\n",
       "    <tr>\n",
       "      <th>18</th>\n",
       "      <td>A1</td>\n",
       "      <td>B2</td>\n",
       "      <td>1</td>\n",
       "      <td>2</td>\n",
       "      <td>0.540570</td>\n",
       "    </tr>\n",
       "    <tr>\n",
       "      <th>31</th>\n",
       "      <td>A2</td>\n",
       "      <td>B1</td>\n",
       "      <td>1</td>\n",
       "      <td>3</td>\n",
       "      <td>0.530378</td>\n",
       "    </tr>\n",
       "    <tr>\n",
       "      <th>8</th>\n",
       "      <td>A1</td>\n",
       "      <td>B1</td>\n",
       "      <td>2</td>\n",
       "      <td>0</td>\n",
       "      <td>0.523785</td>\n",
       "    </tr>\n",
       "    <tr>\n",
       "      <th>5</th>\n",
       "      <td>A1</td>\n",
       "      <td>B1</td>\n",
       "      <td>1</td>\n",
       "      <td>1</td>\n",
       "      <td>0.514725</td>\n",
       "    </tr>\n",
       "    <tr>\n",
       "      <th>25</th>\n",
       "      <td>A2</td>\n",
       "      <td>B1</td>\n",
       "      <td>0</td>\n",
       "      <td>1</td>\n",
       "      <td>0.506017</td>\n",
       "    </tr>\n",
       "    <tr>\n",
       "      <th>37</th>\n",
       "      <td>A2</td>\n",
       "      <td>B2</td>\n",
       "      <td>0</td>\n",
       "      <td>1</td>\n",
       "      <td>0.502415</td>\n",
       "    </tr>\n",
       "  </tbody>\n",
       "</table>\n",
       "</div>"
      ],
      "text/plain": [
       "     A   B  C  D         V\n",
       "35  A2  B1  2  3  0.990738\n",
       "24  A2  B1  0  0  0.962206\n",
       "16  A1  B2  1  0  0.956361\n",
       "19  A1  B2  1  3  0.950050\n",
       "0   A1  B1  0  0  0.946473\n",
       "9   A1  B1  2  1  0.945736\n",
       "7   A1  B1  1  3  0.904997\n",
       "3   A1  B1  0  3  0.901096\n",
       "45  A2  B2  2  1  0.894555\n",
       "22  A1  B2  2  2  0.889443\n",
       "11  A1  B1  2  3  0.882518\n",
       "39  A2  B2  0  3  0.882184\n",
       "4   A1  B1  1  0  0.876580\n",
       "42  A2  B2  1  2  0.872612\n",
       "29  A2  B1  1  1  0.870786\n",
       "10  A1  B1  2  2  0.862220\n",
       "46  A2  B2  2  2  0.821461\n",
       "47  A2  B2  2  3  0.819696\n",
       "6   A1  B1  1  2  0.814124\n",
       "30  A2  B1  1  2  0.800671\n",
       "44  A2  B2  2  0  0.787750\n",
       "36  A2  B2  0  0  0.776058\n",
       "23  A1  B2  2  3  0.775265\n",
       "15  A1  B2  0  3  0.768675\n",
       "20  A1  B2  2  0  0.740659\n",
       "41  A2  B2  1  1  0.736962\n",
       "2   A1  B1  0  2  0.735033\n",
       "12  A1  B2  0  0  0.726126\n",
       "38  A2  B2  0  2  0.722442\n",
       "27  A2  B1  0  3  0.714677\n",
       "1   A1  B1  0  1  0.714361\n",
       "32  A2  B1  2  0  0.709120\n",
       "43  A2  B2  1  3  0.636808\n",
       "28  A2  B1  1  0  0.633721\n",
       "17  A1  B2  1  1  0.623963\n",
       "13  A1  B2  0  1  0.623681\n",
       "14  A1  B2  0  2  0.623218\n",
       "26  A2  B1  0  2  0.608870\n",
       "33  A2  B1  2  1  0.597625\n",
       "40  A2  B2  1  0  0.589736\n",
       "34  A2  B1  2  2  0.577918\n",
       "21  A1  B2  2  1  0.577095\n",
       "18  A1  B2  1  2  0.540570\n",
       "31  A2  B1  1  3  0.530378\n",
       "8   A1  B1  2  0  0.523785\n",
       "5   A1  B1  1  1  0.514725\n",
       "25  A2  B1  0  1  0.506017\n",
       "37  A2  B2  0  1  0.502415"
      ]
     },
     "execution_count": 70,
     "metadata": {},
     "output_type": "execute_result"
    }
   ],
   "source": [
    "import pandas as pd\n",
    "import random as rand\n",
    "df = pd.DataFrame(columns=['A', 'B', 'C', 'D', 'V'])\n",
    "\n",
    "i=0\n",
    "for idx in Alist:\n",
    "    a, b, c, d = idx\n",
    "    a, b = plist[0][a], plist[1][b]\n",
    "    df.loc[i] = [a, b, c, d, rand.uniform(0.5, 1)]\n",
    "    i += 1\n",
    "#display( df.head(5), df.tail(3) ) \n",
    "df.sort_values(by=['V'], ascending=False)"
   ]
  },
  {
   "cell_type": "code",
   "execution_count": 6,
   "metadata": {},
   "outputs": [
    {
     "name": "stdout",
     "output_type": "stream",
     "text": [
      "0 0 1 1\n"
     ]
    }
   ],
   "source": [
    "(a, b, c, d) = Alist[5]\n",
    "print(a, b, c, d)"
   ]
  },
  {
   "cell_type": "code",
   "execution_count": 7,
   "metadata": {},
   "outputs": [
    {
     "name": "stdout",
     "output_type": "stream",
     "text": [
      "(3, 3, 3)\n",
      "(3, 3, 2)\n",
      "(3, 3, 1)\n",
      "(3, 3, 0)\n",
      "(3, 2, 2)\n",
      "(3, 2, 1)\n",
      "(3, 2, 0)\n",
      "(3, 1, 1)\n",
      "(3, 1, 0)\n",
      "(3, 0, 0)\n",
      "(2, 2, 2)\n",
      "(2, 2, 1)\n",
      "(2, 2, 0)\n",
      "(2, 1, 1)\n",
      "(2, 1, 0)\n",
      "(2, 0, 0)\n",
      "(1, 1, 1)\n",
      "(1, 1, 0)\n",
      "(1, 0, 0)\n",
      "(0, 0, 0)\n"
     ]
    }
   ],
   "source": [
    "import itertools\n",
    "for comb in itertools.combinations_with_replacement(range(3, -1, -1), 3):\n",
    "        print(comb)"
   ]
  },
  {
   "cell_type": "code",
   "execution_count": 8,
   "metadata": {},
   "outputs": [
    {
     "name": "stdout",
     "output_type": "stream",
     "text": [
      "(0, 0, 0)\n",
      "(0, 0, 1)\n",
      "(0, 0, 2)\n",
      "(0, 1, 0)\n",
      "(0, 1, 1)\n",
      "(0, 1, 2)\n"
     ]
    }
   ],
   "source": [
    "counts = [1, 2, 3]\n",
    "ranges = [range(x) for x in counts]\n",
    "for i in itertools.product(*ranges):\n",
    "    print(i)"
   ]
  },
  {
   "cell_type": "code",
   "execution_count": 9,
   "metadata": {},
   "outputs": [],
   "source": [
    "if 3 < 4 : x = 5"
   ]
  },
  {
   "cell_type": "code",
   "execution_count": 10,
   "metadata": {},
   "outputs": [
    {
     "data": {
      "text/plain": [
       "5"
      ]
     },
     "execution_count": 10,
     "metadata": {},
     "output_type": "execute_result"
    }
   ],
   "source": [
    "x"
   ]
  },
  {
   "cell_type": "code",
   "execution_count": 11,
   "metadata": {},
   "outputs": [
    {
     "data": {
      "text/plain": [
       "[['A1', 'A2'], ['B1', 'B2'], ['C1', 'C2', 'C3'], ['D1', 'D2', 'D3', 'D4']]"
      ]
     },
     "execution_count": 11,
     "metadata": {},
     "output_type": "execute_result"
    }
   ],
   "source": [
    "plist"
   ]
  },
  {
   "cell_type": "code",
   "execution_count": 13,
   "metadata": {},
   "outputs": [
    {
     "data": {
      "text/plain": [
       "'B2'"
      ]
     },
     "execution_count": 13,
     "metadata": {},
     "output_type": "execute_result"
    }
   ],
   "source": [
    "plist[1][1]"
   ]
  },
  {
   "cell_type": "code",
   "execution_count": 14,
   "metadata": {},
   "outputs": [
    {
     "data": {
      "text/plain": [
       "[(0, 0, 0, 0),\n",
       " (0, 0, 0, 1),\n",
       " (0, 0, 0, 2),\n",
       " (0, 0, 0, 3),\n",
       " (0, 0, 1, 0),\n",
       " (0, 0, 1, 1),\n",
       " (0, 0, 1, 2),\n",
       " (0, 0, 1, 3),\n",
       " (0, 0, 2, 0),\n",
       " (0, 0, 2, 1),\n",
       " (0, 0, 2, 2),\n",
       " (0, 0, 2, 3),\n",
       " (0, 1, 0, 0),\n",
       " (0, 1, 0, 1),\n",
       " (0, 1, 0, 2),\n",
       " (0, 1, 0, 3),\n",
       " (0, 1, 1, 0),\n",
       " (0, 1, 1, 1),\n",
       " (0, 1, 1, 2),\n",
       " (0, 1, 1, 3),\n",
       " (0, 1, 2, 0),\n",
       " (0, 1, 2, 1),\n",
       " (0, 1, 2, 2),\n",
       " (0, 1, 2, 3),\n",
       " (1, 0, 0, 0),\n",
       " (1, 0, 0, 1),\n",
       " (1, 0, 0, 2),\n",
       " (1, 0, 0, 3),\n",
       " (1, 0, 1, 0),\n",
       " (1, 0, 1, 1),\n",
       " (1, 0, 1, 2),\n",
       " (1, 0, 1, 3),\n",
       " (1, 0, 2, 0),\n",
       " (1, 0, 2, 1),\n",
       " (1, 0, 2, 2),\n",
       " (1, 0, 2, 3),\n",
       " (1, 1, 0, 0),\n",
       " (1, 1, 0, 1),\n",
       " (1, 1, 0, 2),\n",
       " (1, 1, 0, 3),\n",
       " (1, 1, 1, 0),\n",
       " (1, 1, 1, 1),\n",
       " (1, 1, 1, 2),\n",
       " (1, 1, 1, 3),\n",
       " (1, 1, 2, 0),\n",
       " (1, 1, 2, 1),\n",
       " (1, 1, 2, 2),\n",
       " (1, 1, 2, 3)]"
      ]
     },
     "execution_count": 14,
     "metadata": {},
     "output_type": "execute_result"
    }
   ],
   "source": [
    "Alist"
   ]
  },
  {
   "cell_type": "code",
   "execution_count": 15,
   "metadata": {},
   "outputs": [
    {
     "ename": "NameError",
     "evalue": "name 'Blist' is not defined",
     "output_type": "error",
     "traceback": [
      "\u001b[0;31m---------------------------------------------------------------------------\u001b[0m",
      "\u001b[0;31mNameError\u001b[0m                                 Traceback (most recent call last)",
      "\u001b[0;32m<ipython-input-15-7c49bd10f2b1>\u001b[0m in \u001b[0;36m<module>\u001b[0;34m\u001b[0m\n\u001b[0;32m----> 1\u001b[0;31m \u001b[0mBlist\u001b[0m\u001b[0;34m[\u001b[0m\u001b[0;36m0\u001b[0m\u001b[0;34m,\u001b[0m\u001b[0;36m0\u001b[0m\u001b[0;34m,\u001b[0m\u001b[0;36m0\u001b[0m\u001b[0;34m,\u001b[0m\u001b[0;36m0\u001b[0m\u001b[0;34m]\u001b[0m \u001b[0;34m=\u001b[0m \u001b[0;36m3\u001b[0m\u001b[0;34m\u001b[0m\u001b[0;34m\u001b[0m\u001b[0m\n\u001b[0m",
      "\u001b[0;31mNameError\u001b[0m: name 'Blist' is not defined"
     ]
    }
   ],
   "source": [
    "Blist[0,0,0,0] = 3"
   ]
  },
  {
   "cell_type": "code",
   "execution_count": 22,
   "metadata": {},
   "outputs": [
    {
     "data": {
      "text/plain": [
       "array([ 0,  1,  2,  3,  4,  5,  6,  7,  8,  9, 10, 11, 12, 13, 14, 15, 16,\n",
       "       17, 18, 19, 20, 21, 22, 23])"
      ]
     },
     "execution_count": 22,
     "metadata": {},
     "output_type": "execute_result"
    }
   ],
   "source": [
    "import numpy as np\n",
    "AA = np.arange(24)\n",
    "AA"
   ]
  },
  {
   "cell_type": "code",
   "execution_count": 24,
   "metadata": {},
   "outputs": [
    {
     "data": {
      "text/plain": [
       "array([[ 0,  1,  2,  3,  4,  5],\n",
       "       [ 6,  7,  8,  9, 10, 11],\n",
       "       [12, 13, 14, 15, 16, 17],\n",
       "       [18, 19, 20, 21, 22, 23]])"
      ]
     },
     "execution_count": 24,
     "metadata": {},
     "output_type": "execute_result"
    }
   ],
   "source": [
    "AA.shape= (4,6)\n",
    "AA"
   ]
  },
  {
   "cell_type": "code",
   "execution_count": null,
   "metadata": {},
   "outputs": [],
   "source": []
  }
 ],
 "metadata": {
  "kernelspec": {
   "display_name": "Python 3",
   "language": "python",
   "name": "python3"
  },
  "language_info": {
   "codemirror_mode": {
    "name": "ipython",
    "version": 3
   },
   "file_extension": ".py",
   "mimetype": "text/x-python",
   "name": "python",
   "nbconvert_exporter": "python",
   "pygments_lexer": "ipython3",
   "version": "3.6.7"
  }
 },
 "nbformat": 4,
 "nbformat_minor": 2
}
